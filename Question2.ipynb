{
 "cells": [
  {
   "cell_type": "markdown",
   "metadata": {},
   "source": [
    "## Initialization part"
   ]
  },
  {
   "cell_type": "code",
   "execution_count": 146,
   "metadata": {},
   "outputs": [],
   "source": [
    "import string\n",
    "\n",
    "upper_letters = list(string.ascii_uppercase)\n",
    "lower_letters = list(string.ascii_lowercase)\n",
    "\n",
    "letters = []\n",
    "\n",
    "for i in range(len(upper_letters)):\n",
    "    letters.append(upper_letters[i])\n",
    "    letters.append(lower_letters[i])\n",
    "\n",
    "letters.insert(0,\" \")\n",
    "\n",
    "alphabet_dic = dict(zip(letters, list(range(len(letters)))))"
   ]
  },
  {
   "cell_type": "markdown",
   "metadata": {},
   "source": [
    "## Question 1"
   ]
  },
  {
   "cell_type": "code",
   "execution_count": null,
   "metadata": {},
   "outputs": [],
   "source": [
    "def counting_sort(lst):\n",
    "    max_value = max(lst)#we get the max_value of the list\n",
    "    n = max_value + 1 #to add 0\n",
    "    count = [0] * n  #for each number, we initialize occurrences at 0\n",
    "    \n",
    "    for num in lst: #everytime we encounter a specific number...\n",
    "        count[num] += 1 #...we increase its count by 1\n",
    "        \n",
    "    i = 0\n",
    "    for num in range(n):#for each number...\n",
    "        for c in range(count[num]): #we append it c times to the list, with c being equal to its count in the original list  \n",
    "            lst[i] = num\n",
    "            i += 1\n",
    "\n",
    "    return lst"
   ]
  },
  {
   "cell_type": "code",
   "execution_count": 141,
   "metadata": {},
   "outputs": [
    {
     "data": {
      "text/plain": [
       "[0, 1, 1, 2, 3, 3, 3, 23, 26, 67, 189, 3598]"
      ]
     },
     "execution_count": 141,
     "metadata": {},
     "output_type": "execute_result"
    }
   ],
   "source": [
    "counting_sort([23,67,1,189,3,3598,3,1,3,0,26,2])"
   ]
  },
  {
   "cell_type": "markdown",
   "metadata": {},
   "source": [
    "## Question 2"
   ]
  },
  {
   "cell_type": "code",
   "execution_count": 47,
   "metadata": {},
   "outputs": [],
   "source": [
    "#we create a specific function in order to get the max value in a letters list. \n",
    "#we can't use max() because our order is not like Python's order\n",
    "def get_max_letter(lst): \n",
    "    letter = lst[0]\n",
    "    for i in range(len(lst)):\n",
    "        if alphabet_dic[lst[i]] > alphabet_dic[letter]:\n",
    "            letter = lst[i]\n",
    "    return letter\n",
    "\n",
    "def letters_sort(lst):    \n",
    "    max_value = get_max_letter(lst)#we get the max_value of the list\n",
    "    ind = letters.index(max_value)#we get the index of this max letter\n",
    "    letters_list = []\n",
    "    for i in range(ind+1):\n",
    "        letters_list.append(letters[i]) #and we store all letters with a smaller or equal index\n",
    "    \n",
    "    count = [0] * len(letters_list) #for each letter, we initialize occurrences at 0\n",
    "        \n",
    "    for letter in lst:#everytime we encounter a specific letter...\n",
    "        ind = letters_list.index(letter)\n",
    "        count[ind] += 1 #...we increase its count by 1\n",
    "\n",
    "    i = 0\n",
    "    for ind in range(len(count)):#for each letter...\n",
    "        for c in range(count[ind]): #we append it c times to the list, with c being equal to its count in the original list  \n",
    "            lst[i] = letters_list[ind]\n",
    "            i += 1\n",
    "\n",
    "    return lst"
   ]
  },
  {
   "cell_type": "code",
   "execution_count": 48,
   "metadata": {},
   "outputs": [
    {
     "data": {
      "text/plain": [
       "['A', 'a', 'a', 'C', 'c', 'F', 'f', 'k', 'M', 'M', 'M']"
      ]
     },
     "execution_count": 48,
     "metadata": {},
     "output_type": "execute_result"
    }
   ],
   "source": [
    "letters_sort(['a','c','M','k','C','a','A','f','M','F','M'])"
   ]
  },
  {
   "cell_type": "markdown",
   "metadata": {},
   "source": [
    "## Question 3"
   ]
  },
  {
   "cell_type": "code",
   "execution_count": 144,
   "metadata": {},
   "outputs": [],
   "source": [
    "def words_sort(words_list):\n",
    "    letter_ind_list = []\n",
    "    for word in words_list: \n",
    "        letter_ind = []\n",
    "        for letter in word:#for each letter of each word, we store the index (in our sorted letters_lists) of this letter \n",
    "            letter_ind.append(alphabet_dic[letter])\n",
    "        letter_ind_list.append(letter_ind) \n",
    "        \n",
    "    ordered_ind_letters_list = []#we alphabetically sort our words by comparing their letters' indexes\n",
    "    while len(letter_ind_list) > 0:\n",
    "        ind_min = letter_ind_list.index(min(letter_ind_list))\n",
    "        val = letter_ind_list.pop(ind_min)\n",
    "        ordered_ind_letters_list.append(val)\n",
    "        \n",
    "    ordered_words_list = []#and then we recompose our words by getting the letters matching their indexes\n",
    "    for elem in ordered_ind_letters_list:\n",
    "        word = ''\n",
    "        for letter_ind in elem:\n",
    "            word += list(alphabet_dic.keys())[letter_ind]\n",
    "\n",
    "        ordered_words_list.append(word)\n",
    "        \n",
    "    return ordered_words_list"
   ]
  },
  {
   "cell_type": "code",
   "execution_count": 145,
   "metadata": {},
   "outputs": [
    {
     "data": {
      "text/plain": [
       "['Data',\n",
       " 'dictionary',\n",
       " 'Hello',\n",
       " 'hello',\n",
       " 'hello',\n",
       " 'helloo',\n",
       " 'hmar',\n",
       " 'jacket',\n",
       " 'Zouave']"
      ]
     },
     "execution_count": 145,
     "metadata": {},
     "output_type": "execute_result"
    }
   ],
   "source": [
    "words_sort(['Hello','hello','hmar','Zouave','Data','hello','helloo','dictionary','jacket'])"
   ]
  },
  {
   "cell_type": "code",
   "execution_count": null,
   "metadata": {},
   "outputs": [],
   "source": []
  }
 ],
 "metadata": {
  "kernelspec": {
   "display_name": "Python 3",
   "language": "python",
   "name": "python3"
  },
  "language_info": {
   "codemirror_mode": {
    "name": "ipython",
    "version": 3
   },
   "file_extension": ".py",
   "mimetype": "text/x-python",
   "name": "python",
   "nbconvert_exporter": "python",
   "pygments_lexer": "ipython3",
   "version": "3.7.4"
  }
 },
 "nbformat": 4,
 "nbformat_minor": 2
}
