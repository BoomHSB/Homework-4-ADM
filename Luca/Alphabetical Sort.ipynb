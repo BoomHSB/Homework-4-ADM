{
 "cells": [
  {
   "cell_type": "code",
   "execution_count": null,
   "metadata": {},
   "outputs": [],
   "source": [
    "# Timeit functions\n",
    "import time\n",
    "#start_time = time.time()\n",
    "#print(\"--- %s seconds ---\" % (time.time() - start_time))"
   ]
  },
  {
   "cell_type": "markdown",
   "metadata": {},
   "source": [
    "## Part 1. (Counting Sort)"
   ]
  },
  {
   "cell_type": "markdown",
   "metadata": {},
   "source": [
    "In Counting sort, the frequencies of distinct elements of the array to be sorted is counted and stored in an auxiliary array, by mapping its value as an index of the auxiliary array."
   ]
  },
  {
   "cell_type": "code",
   "execution_count": null,
   "metadata": {},
   "outputs": [],
   "source": [
    "# My implementation \n",
    "import itertools\n",
    "\n",
    "l = list(map(int, input().split()))\n",
    "start_time = time.time()\n",
    "\n",
    "max_l = max(l)\n",
    "sub_l = [0] * (max_l+1)\n",
    "sort = []\n",
    "temp = []\n",
    "\n",
    "for i in l:\n",
    "    sub_l[i] +=1\n",
    "\n",
    "for i, element in enumerate(sub_l):\n",
    "    temp = [i]*element\n",
    "    sort.append(temp)\n",
    "\n",
    "sort_flat = list(itertools.chain.from_iterable(sort))\n",
    "print(sort_flat)\n",
    "print(\"--- %s seconds ---\" % (time.time() - start_time))"
   ]
  },
  {
   "cell_type": "markdown",
   "metadata": {},
   "source": [
    "## Part 2. (Aplhabet)"
   ]
  },
  {
   "cell_type": "markdown",
   "metadata": {},
   "source": [
    "#### Build an algorithm, based on your implementation of Counting Sort, that receives in input a list with all the letters of the alphabet (not in alphabetical order), and returns the list ordered according to alphabetical order. Discuss time complexity (theoretically and empirically)."
   ]
  },
  {
   "cell_type": "code",
   "execution_count": null,
   "metadata": {},
   "outputs": [],
   "source": [
    "# My implementation ++ ----> complexity = O(n)\n",
    "\n",
    "# For now it works, fix the double for loop\n",
    "import itertools\n",
    "import string\n",
    "from collections import Counter\n",
    "\n",
    "l = list(input().split())\n",
    "start_time = time.time()\n",
    "# Dictionary of the alphabet\n",
    "alpha_dict = dict(enumerate(string.ascii_lowercase))\n",
    "alpha_dict = {v: k for k, v in alpha_dict.items()}\n",
    "# Compare each value of our input with the alphabet dictionary and append the key if it's present\n",
    "new_l = []\n",
    "for i in l:\n",
    "    if i in alpha_dict.keys():\n",
    "        new_l.append(alpha_dict[i])\n",
    "# Once we have new_l = list of keys, we can use the same algorithm of before\n",
    "max_l = max(new_l)\n",
    "sub_l = [0] * (max_l+1)\n",
    "sort = []\n",
    "temp = []\n",
    "\n",
    "for i in new_l:\n",
    "    sub_l[i] +=1\n",
    "\n",
    "for i, element in enumerate(sub_l):\n",
    "    temp = [i]*element\n",
    "    sort.append(temp)\n",
    "\n",
    "sort_flat = list(itertools.chain.from_iterable(sort))\n",
    "alpha_dict = {v: k for k, v in alpha_dict.items()}\n",
    "# We invert the initial process, we check if the list of keys is in the dictionary and if it's true append the value\n",
    "final_l = []\n",
    "for j in sort_flat:\n",
    "    if j in alpha_dict.keys():\n",
    "            final_l.append(alpha_dict[j])\n",
    "\n",
    "print(*final_l) # it works\n",
    "print(\"--- %s seconds ---\" % (time.time() - start_time))"
   ]
  },
  {
   "cell_type": "markdown",
   "metadata": {},
   "source": [
    "## Part 3. (Words)"
   ]
  },
  {
   "cell_type": "markdown",
   "metadata": {},
   "source": [
    "#### Build an algorithm, based on your implementation of Counting Sort, that receives in input a list of length m, that contains words with maximum length equal to n, and returns the list ordered according to alphabetical order. Discuss time complexity (theoretically and empirically)."
   ]
  },
  {
   "cell_type": "code",
   "execution_count": 110,
   "metadata": {},
   "outputs": [
    {
     "name": "stdout",
     "output_type": "stream",
     "text": [
      "luca ciao stai come\n"
     ]
    }
   ],
   "source": [
    "import itertools\n",
    "import string\n",
    "from collections import Counter\n",
    "\n",
    "# Input initial words\n",
    "word = input().split()\n",
    "\n",
    "# Create a dictionary of id's and letters\n",
    "alpha_dict = dict(enumerate(string.ascii_lowercase))\n",
    "# invert id's and letters of the dictionary\n",
    "alpha_dict = {v: k for k, v in alpha_dict.items()}\n",
    "\n",
    "# Compare each value of our input with the alphabet dictionary and append the key if it's present\n",
    "# Create a dictinary with values of each letter of the words\n",
    "c = 0\n",
    "new_dict = {}\n",
    "for i in words:\n",
    "    new_l = []\n",
    "    for letter in i:\n",
    "        if letter in alpha_dict.keys():\n",
    "            new_l.append(alpha_dict[letter]) # create a new list with m values (one for each letter of the word)\n",
    "        new_dict[c] = new_l # we created a dictionary containing all these new values\n",
    "    c += 1\n",
    "\n",
    "order = []"
   ]
  },
  {
   "cell_type": "code",
   "execution_count": 111,
   "metadata": {},
   "outputs": [
    {
     "name": "stdout",
     "output_type": "stream",
     "text": [
      "3 [2, 8, 0, 14]\n",
      "1 [2, 14, 12, 4]\n",
      "0 [11, 20, 2, 0]\n",
      "2 [18, 19, 0, 8]\n"
     ]
    }
   ],
   "source": [
    "for key, value in new_dict.copy().items():\n",
    "    key, value = min(new_dict.items(), key=lambda x: x[1]) # look for the smallest value of the dictionary, that means it's the first word alphabetically speaking\n",
    "    order.append(value)\n",
    "    print(key, value)\n",
    "    del new_dict[key]    \n",
    "        "
   ]
  },
  {
   "cell_type": "code",
   "execution_count": 112,
   "metadata": {},
   "outputs": [
    {
     "data": {
      "text/plain": [
       "[[2, 8, 0, 14], [2, 14, 12, 4], [11, 20, 2, 0], [18, 19, 0, 8]]"
      ]
     },
     "execution_count": 112,
     "metadata": {},
     "output_type": "execute_result"
    }
   ],
   "source": [
    "order"
   ]
  },
  {
   "cell_type": "code",
   "execution_count": 113,
   "metadata": {},
   "outputs": [
    {
     "data": {
      "text/plain": [
       "['ciao', 'come', 'luca', 'stai']"
      ]
     },
     "execution_count": 113,
     "metadata": {},
     "output_type": "execute_result"
    }
   ],
   "source": [
    "alpha_dict = {v: k for k, v in alpha_dict.items()}\n",
    "\n",
    "final_word = []           \n",
    "for i in order:\n",
    "    word = ''\n",
    "    for number in i:\n",
    "        if number in alpha_dict.keys():\n",
    "            word += alpha_dict[number]\n",
    "    final_word.append(word) # create a new list with m values (one for each letter of the word)\n",
    "final_word"
   ]
  }
 ],
 "metadata": {
  "kernelspec": {
   "display_name": "Python 3",
   "language": "python",
   "name": "python3"
  },
  "language_info": {
   "codemirror_mode": {
    "name": "ipython",
    "version": 3
   },
   "file_extension": ".py",
   "mimetype": "text/x-python",
   "name": "python",
   "nbconvert_exporter": "python",
   "pygments_lexer": "ipython3",
   "version": "3.7.3"
  }
 },
 "nbformat": 4,
 "nbformat_minor": 2
}
